{
 "cells": [
  {
   "cell_type": "markdown",
   "id": "214dc3a7-9a75-46d2-b6a9-d99128b15a9a",
   "metadata": {},
   "source": [
    "# Data Science Tools and Ecosystem"
   ]
  },
  {
   "cell_type": "markdown",
   "id": "248baf4a-61f8-499c-8ef6-ded6869e3e02",
   "metadata": {},
   "source": [
    "In this notebook, Data Science Tools and Ecosystem are summarized."
   ]
  },
  {
   "cell_type": "markdown",
   "id": "327434e7-d549-4663-83cc-08516a8d5943",
   "metadata": {},
   "source": [
    "**Objectives:**\n",
    "* List popular languages for Data Science\n",
    "* List popular libraries for Data Science\n",
    "* List a few examples"
   ]
  },
  {
   "cell_type": "markdown",
   "id": "d01b0333-92be-4924-8667-82ce48bf3dc0",
   "metadata": {},
   "source": [
    "1. r\n",
    "2. Python\n",
    "3. Julia"
   ]
  },
  {
   "cell_type": "markdown",
   "id": "d0c477dc-459d-4376-bb4a-495ec4fea3b3",
   "metadata": {},
   "source": [
    "1. Pandas\n",
    "2. Numpy\n",
    "3. ggplot"
   ]
  },
  {
   "cell_type": "markdown",
   "id": "97743954-0c58-4979-96c8-a6d0f836f485",
   "metadata": {},
   "source": [
    "|Data Science Tools|\n",
    "|-|\n",
    "|Spark|\n",
    "|Flink|\n",
    "|MySQL|"
   ]
  },
  {
   "cell_type": "markdown",
   "id": "92d39904-aa91-4999-8ac6-f29780fd8a39",
   "metadata": {},
   "source": [
    "### Below are a few examples of evaluating arithmetic expressions in Python"
   ]
  },
  {
   "cell_type": "code",
   "execution_count": 3,
   "id": "380d3dc1-4289-4d3e-a0e8-7e4f405f7a89",
   "metadata": {},
   "outputs": [
    {
     "data": {
      "text/plain": [
       "17"
      ]
     },
     "execution_count": 3,
     "metadata": {},
     "output_type": "execute_result"
    }
   ],
   "source": [
    "#This a simple arithmetic expression to mutiply then add integers\n",
    "(3*4)+5\n"
   ]
  },
  {
   "cell_type": "code",
   "execution_count": 4,
   "id": "1e127a39-26e8-454c-b8c6-55adb19f8ff6",
   "metadata": {},
   "outputs": [
    {
     "data": {
      "text/plain": [
       "3.3333333333333335"
      ]
     },
     "execution_count": 4,
     "metadata": {},
     "output_type": "execute_result"
    }
   ],
   "source": [
    "#This will convert 200 minutes to hours by diving by 60\n",
    "200/60"
   ]
  },
  {
   "cell_type": "markdown",
   "id": "e4784794-b1c9-40f4-a70c-c040ff107642",
   "metadata": {},
   "source": [
    "## Author\n",
    "Juntao Zhao"
   ]
  },
  {
   "cell_type": "code",
   "execution_count": null,
   "id": "3418503b-0cb5-4d47-bbbd-df84e4431d2d",
   "metadata": {},
   "outputs": [],
   "source": []
  }
 ],
 "metadata": {
  "kernelspec": {
   "display_name": "Python 3 (ipykernel)",
   "language": "python",
   "name": "python3"
  },
  "language_info": {
   "codemirror_mode": {
    "name": "ipython",
    "version": 3
   },
   "file_extension": ".py",
   "mimetype": "text/x-python",
   "name": "python",
   "nbconvert_exporter": "python",
   "pygments_lexer": "ipython3",
   "version": "3.10.9"
  }
 },
 "nbformat": 4,
 "nbformat_minor": 5
}
